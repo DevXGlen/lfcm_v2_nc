{
 "cells": [
  {
   "cell_type": "code",
   "execution_count": 1,
   "metadata": {},
   "outputs": [],
   "source": [
    "from sklearn.utils.class_weight import compute_class_weight\n",
    "import numpy as np\n",
    "import csv"
   ]
  },
  {
   "cell_type": "code",
   "execution_count": 2,
   "metadata": {},
   "outputs": [],
   "source": [
    "def compute_weight(n1, n2):\n",
    "    y = ([0] * n1) + ([1] * n2)\n",
    "    class_labels = np.unique(y)\n",
    "\n",
    "    # Calculate class weights\n",
    "    class_weights = compute_class_weight('balanced', classes=class_labels, y=y)\n",
    "\n",
    "    # Normalize weights to sum to 1\n",
    "    class_weights_normalized = class_weights / sum(class_weights)\n",
    "\n",
    "    print(\"Class Weights:\", class_weights)\n",
    "    print(\"Normalized Class Weights:\", class_weights_normalized)"
   ]
  },
  {
   "cell_type": "code",
   "execution_count": 3,
   "metadata": {},
   "outputs": [
    {
     "name": "stdout",
     "output_type": "stream",
     "text": [
      "0:6322 1:3112\n",
      "Class Weights: [0.74612464 1.5157455 ]\n",
      "Normalized Class Weights: [0.32987068 0.67012932]\n"
     ]
    }
   ],
   "source": [
    "\n",
    "# Specify the path to your CSV file\n",
    "csv_file_path = \"\"\n",
    "\n",
    "# Open the CSV file in read mode\n",
    "with open(csv_file_path, 'r') as csv_file:\n",
    "    # Create a CSV reader object\n",
    "    csv_reader = csv.reader(csv_file)\n",
    "    rows = []\n",
    "    # Iterate through the rows in the CSV file\n",
    "    for row in csv_reader:\n",
    "        # Each row is a list of values\n",
    "        rows.append(row[-1])\n",
    "\n",
    "rows = rows[1:]\n",
    "\n",
    "print(f\"0:{rows.count('0')} 1:{rows.count('1')}\")\n",
    "\n",
    "compute_weight(rows.count('0'), rows.count('1'))"
   ]
  },
  {
   "cell_type": "code",
   "execution_count": 2,
   "metadata": {},
   "outputs": [],
   "source": [
    "\n",
    "# Specify the path to your CSV file\n",
    "csv_file_path = \"\"\n",
    "\n",
    "# Open the CSV file in read mode\n",
    "with open(csv_file_path, 'r') as csv_file:\n",
    "    # Create a CSV reader object\n",
    "    csv_reader = csv.reader(csv_file)\n",
    "    rows = []\n",
    "    # Iterate through the rows in the CSV file\n",
    "    for row in csv_reader:\n",
    "        # Each row is a list of values\n",
    "        rows.append(row[-1])\n",
    "\n",
    "rows = rows[1:]\n",
    "\n",
    "print(f\"0:{rows.count('0')} 1:{rows.count('1')}\")\n",
    "\n",
    "compute_weight(rows.count('0'), rows.count('1'))"
   ]
  },
  {
   "cell_type": "code",
   "execution_count": null,
   "metadata": {},
   "outputs": [
    {
     "name": "stdout",
     "output_type": "stream",
     "text": [
      "0:943 1:472\n",
      "Class Weights: [0.75026511 1.49894068]\n",
      "Normalized Class Weights: [0.3335689 0.6664311]\n"
     ]
    }
   ],
   "source": [
    "\n",
    "# Specify the path to your CSV file\n",
    "csv_file_path = \"\"\n",
    "\n",
    "# Open the CSV file in read mode\n",
    "with open(csv_file_path, 'r') as csv_file:\n",
    "    # Create a CSV reader object\n",
    "    csv_reader = csv.reader(csv_file)\n",
    "    rows = []\n",
    "    # Iterate through the rows in the CSV file\n",
    "    for row in csv_reader:\n",
    "        # Each row is a list of values\n",
    "        rows.append(row[-1])\n",
    "\n",
    "rows = rows[1:]\n",
    "\n",
    "print(f\"0:{rows.count('0')} 1:{rows.count('1')}\")\n",
    "\n",
    "compute_weight(rows.count('0'), rows.count('1'))"
   ]
  },
  {
   "cell_type": "code",
   "execution_count": null,
   "metadata": {},
   "outputs": [
    {
     "name": "stdout",
     "output_type": "stream",
     "text": [
      "0:948 1:468\n",
      "Class Weights: [0.74683544 1.51282051]\n",
      "Normalized Class Weights: [0.33050847 0.66949153]\n"
     ]
    }
   ],
   "source": [
    "\n",
    "# Specify the path to your CSV file\n",
    "csv_file_path = \"\"\n",
    "\n",
    "# Open the CSV file in read mode\n",
    "with open(csv_file_path, 'r') as csv_file:\n",
    "    # Create a CSV reader object\n",
    "    csv_reader = csv.reader(csv_file)\n",
    "    rows = []\n",
    "    # Iterate through the rows in the CSV file\n",
    "    for row in csv_reader:\n",
    "        # Each row is a list of values\n",
    "        rows.append(row[-1])\n",
    "\n",
    "rows = rows[1:]\n",
    "\n",
    "print(f\"0:{rows.count('0')} 1:{rows.count('1')}\")\n",
    "\n",
    "compute_weight(rows.count('0'), rows.count('1'))"
   ]
  },
  {
   "cell_type": "code",
   "execution_count": null,
   "metadata": {},
   "outputs": [
    {
     "ename": "NameError",
     "evalue": "name 'csv' is not defined",
     "output_type": "error",
     "traceback": [
      "\u001b[1;31m---------------------------------------------------------------------------\u001b[0m",
      "\u001b[1;31mNameError\u001b[0m                                 Traceback (most recent call last)",
      "Cell \u001b[1;32mIn[2], line 7\u001b[0m\n\u001b[0;32m      4\u001b[0m \u001b[38;5;66;03m# Open the CSV file in read mode\u001b[39;00m\n\u001b[0;32m      5\u001b[0m \u001b[38;5;28;01mwith\u001b[39;00m \u001b[38;5;28mopen\u001b[39m(csv_file_path, \u001b[38;5;124m'\u001b[39m\u001b[38;5;124mr\u001b[39m\u001b[38;5;124m'\u001b[39m) \u001b[38;5;28;01mas\u001b[39;00m csv_file:\n\u001b[0;32m      6\u001b[0m     \u001b[38;5;66;03m# Create a CSV reader object\u001b[39;00m\n\u001b[1;32m----> 7\u001b[0m     csv_reader \u001b[38;5;241m=\u001b[39m \u001b[43mcsv\u001b[49m\u001b[38;5;241m.\u001b[39mreader(csv_file)\n\u001b[0;32m      8\u001b[0m     rows \u001b[38;5;241m=\u001b[39m []\n\u001b[0;32m      9\u001b[0m     \u001b[38;5;66;03m# Iterate through the rows in the CSV file\u001b[39;00m\n",
      "\u001b[1;31mNameError\u001b[0m: name 'csv' is not defined"
     ]
    }
   ],
   "source": [
    "\n",
    "# Specify the path to your CSV file\n",
    "csv_file_path = \"\"\n",
    "\n",
    "# Open the CSV file in read mode\n",
    "with open(csv_file_path, 'r') as csv_file:\n",
    "    # Create a CSV reader object\n",
    "    csv_reader = csv.reader(csv_file)\n",
    "    rows = []\n",
    "    # Iterate through the rows in the CSV file\n",
    "    for row in csv_reader:\n",
    "        # Each row is a list of values\n",
    "        rows.append(row[-1])\n",
    "\n",
    "rows = rows[1:]\n",
    "\n",
    "print(f\"0:{rows.count('0')} 1:{rows.count('1')}\")\n",
    "\n",
    "compute_weight(rows.count('0'), rows.count('1'))"
   ]
  }
 ],
 "metadata": {
  "kernelspec": {
   "display_name": "venv",
   "language": "python",
   "name": "python3"
  },
  "language_info": {
   "codemirror_mode": {
    "name": "ipython",
    "version": 3
   },
   "file_extension": ".py",
   "mimetype": "text/x-python",
   "name": "python",
   "nbconvert_exporter": "python",
   "pygments_lexer": "ipython3",
   "version": "3.11.0"
  }
 },
 "nbformat": 4,
 "nbformat_minor": 2
}
