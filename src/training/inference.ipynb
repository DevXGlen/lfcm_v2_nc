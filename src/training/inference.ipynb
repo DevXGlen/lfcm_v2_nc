{
 "cells": [
  {
   "cell_type": "code",
   "execution_count": 14,
   "metadata": {},
   "outputs": [
    {
     "data": {
      "text/plain": [
       "True"
      ]
     },
     "execution_count": 14,
     "metadata": {},
     "output_type": "execute_result"
    }
   ],
   "source": [
    "import torch\n",
    "import customDataset\n",
    "import os\n",
    "import lfcm\n",
    "from dotenv import load_dotenv\n",
    "from torch.utils.data import DataLoader\n",
    "\n",
    "load_dotenv()"
   ]
  },
  {
   "cell_type": "code",
   "execution_count": 15,
   "metadata": {},
   "outputs": [],
   "source": [
    "root_dir = os.getenv('ROOT_PATH')\n",
    "split_test = 'test.csv'\n",
    "batch_size = 24\n",
    "workers = 4\n",
    "fcm_model_name = \"fcm_v2_b24.pth\"\n",
    "lfcm_model_name = \"lfcm_v2_b24.pth\"\n",
    "gpus = [0]\n",
    "gpu = 0\n",
    "CUDA_VISIBLE_DEVICES = 0"
   ]
  },
  {
   "cell_type": "code",
   "execution_count": 16,
   "metadata": {},
   "outputs": [],
   "source": [
    "fcm_result_fpath = f\"{root_dir}/results/fcm_result.txt\"\n",
    "lfcm_result_fpath = f\"{root_dir}/results/lfcm_result.txt\"\n"
   ]
  },
  {
   "cell_type": "code",
   "execution_count": 17,
   "metadata": {},
   "outputs": [],
   "source": [
    "fcm_state_dict = torch.load(f\"{root_dir}/checkpoints/{fcm_model_name}\", map_location={'cuda:1':'cuda:0', 'cuda:2':'cuda:0', 'cuda:3':'cuda:0'})\n",
    "lfcm_state_dict = torch.load(f\"{root_dir}/checkpoints/{lfcm_model_name}\", map_location={'cuda:1':'cuda:0', 'cuda:2':'cuda:0', 'cuda:3':'cuda:0'})\n"
   ]
  },
  {
   "cell_type": "code",
   "execution_count": 18,
   "metadata": {},
   "outputs": [],
   "source": [
    "# print(fcm_state_dict)\n",
    "# print(lfcm_state_dict)"
   ]
  },
  {
   "cell_type": "code",
   "execution_count": 19,
   "metadata": {},
   "outputs": [
    {
     "name": "stdout",
     "output_type": "stream",
     "text": [
      "Inception v3 pretraining: Hardcoded strict=False, Might be omiting layers\n",
      "Inception v3 pretraining: Hardcoded strict=False, Might be omiting layers\n"
     ]
    }
   ],
   "source": [
    "fcm_model = lfcm.OldModel()\n",
    "lfcm_model = lfcm.LFCM()"
   ]
  },
  {
   "cell_type": "code",
   "execution_count": 20,
   "metadata": {},
   "outputs": [],
   "source": [
    "fcm_model = torch.nn.DataParallel(fcm_model, device_ids=gpus).cuda(gpu)\n",
    "\n",
    "# print(fcm_model)"
   ]
  },
  {
   "cell_type": "code",
   "execution_count": 21,
   "metadata": {},
   "outputs": [],
   "source": [
    "lfcm_model = torch.nn.DataParallel(lfcm_model, device_ids=gpus).cuda(gpu)\n",
    "\n",
    "# print(lfcm_model)"
   ]
  },
  {
   "cell_type": "code",
   "execution_count": 22,
   "metadata": {},
   "outputs": [
    {
     "data": {
      "text/plain": [
       "<All keys matched successfully>"
      ]
     },
     "execution_count": 22,
     "metadata": {},
     "output_type": "execute_result"
    }
   ],
   "source": [
    "fcm_model.load_state_dict(fcm_state_dict)\n",
    "lfcm_model.load_state_dict(lfcm_state_dict)"
   ]
  },
  {
   "cell_type": "code",
   "execution_count": 23,
   "metadata": {},
   "outputs": [],
   "source": [
    "fcm_test_dataset = customDataset.CustomDatasetFCM(root_dir, split_test, Rescale=299, RandomCrop=0, Mirror=False, embed_dir='test_embeddings')\n",
    "\n",
    "fcm_test_loader = DataLoader(\n",
    "    fcm_test_dataset, batch_size=batch_size, shuffle=False,\n",
    "    num_workers=workers, pin_memory=True, sampler=None)\n"
   ]
  },
  {
   "cell_type": "code",
   "execution_count": 24,
   "metadata": {},
   "outputs": [],
   "source": [
    "lfcm_test_dataset = customDataset.CustomDatasetLFCM(root_dir, split_test, Rescale=299, RandomCrop=0, Mirror=False, embed_dir='test_embeddings')\n",
    "\n",
    "lfcm_test_loader = DataLoader(\n",
    "    lfcm_test_dataset, batch_size=batch_size, shuffle=False,\n",
    "    num_workers=workers, pin_memory=True, sampler=None)"
   ]
  },
  {
   "cell_type": "code",
   "execution_count": 26,
   "metadata": {},
   "outputs": [],
   "source": [
    "# fcm_result_fpath = f\"{root_dir}/results/fcm_result.txt\"\n",
    "fcm_out_file = open(fcm_result_fpath, \"w\")\n",
    "\n",
    "# FCM \n",
    "with torch.no_grad():\n",
    "    fcm_model.eval()\n",
    "    for i,(image, image_text, tweet, target) in enumerate(fcm_test_loader):\n",
    "        image_var = torch.autograd.Variable(image)\n",
    "        image_text_var = torch.autograd.Variable(image_text)\n",
    "        tweet_var = torch.autograd.Variable(tweet)\n",
    "\n",
    "        outputs = fcm_model(image_var, image_text_var, tweet_var)\n",
    "\n",
    "        for idx,el in enumerate(outputs):\n",
    "            topic_probs_str = ''\n",
    "            for t in el:\n",
    "                topic_probs_str = topic_probs_str + ',' + str(float(t))\n",
    "            fcm_out_file.write(str(int(target[idx])) + topic_probs_str + '\\n')\n",
    "\n",
    "fcm_out_file.close()"
   ]
  },
  {
   "cell_type": "code",
   "execution_count": 27,
   "metadata": {},
   "outputs": [],
   "source": [
    "# fcm_result_fpath = f\"{root_dir}/results/fcm_result.txt\"\n",
    "lfcm_out_file = open(lfcm_result_fpath, \"w\")\n",
    "\n",
    "# FCM \n",
    "with torch.no_grad():\n",
    "    lfcm_model.eval()\n",
    "    for i,(image, image_text, tweet, comment, target) in enumerate(lfcm_test_loader):\n",
    "        image_var = torch.autograd.Variable(image)\n",
    "        image_text_var = torch.autograd.Variable(image_text)\n",
    "        tweet_var = torch.autograd.Variable(tweet)\n",
    "        comment_var = torch.autograd.Variable(comment)\n",
    "\n",
    "        outputs = lfcm_model(image_var, image_text_var, tweet_var, comment_var)\n",
    "\n",
    "        for idx,el in enumerate(outputs):\n",
    "            topic_probs_str = ''\n",
    "            for t in el:\n",
    "                topic_probs_str = topic_probs_str + ',' + str(float(t))\n",
    "            lfcm_out_file.write(str(int(target[idx])) + topic_probs_str + '\\n')\n",
    "\n",
    "lfcm_out_file.close()"
   ]
  },
  {
   "cell_type": "code",
   "execution_count": null,
   "metadata": {},
   "outputs": [],
   "source": [
    "# evaluate_model.run_evaluation('fcm_e16b16','classification')\n",
    "\n",
    "# evaluate_model.run_evaluation('lfcm_e16b16','classification')"
   ]
  }
 ],
 "metadata": {
  "kernelspec": {
   "display_name": "venv",
   "language": "python",
   "name": "python3"
  },
  "language_info": {
   "codemirror_mode": {
    "name": "ipython",
    "version": 3
   },
   "file_extension": ".py",
   "mimetype": "text/x-python",
   "name": "python",
   "nbconvert_exporter": "python",
   "pygments_lexer": "ipython3",
   "version": "3.11.0"
  }
 },
 "nbformat": 4,
 "nbformat_minor": 2
}
