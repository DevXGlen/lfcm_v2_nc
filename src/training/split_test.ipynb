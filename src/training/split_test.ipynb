{
 "cells": [
  {
   "cell_type": "code",
   "execution_count": 11,
   "metadata": {},
   "outputs": [
    {
     "data": {
      "text/plain": [
       "True"
      ]
     },
     "execution_count": 11,
     "metadata": {},
     "output_type": "execute_result"
    }
   ],
   "source": [
    "from dotenv import load_dotenv\n",
    "import os\n",
    "import csv\n",
    "\n",
    "load_dotenv()"
   ]
  },
  {
   "cell_type": "code",
   "execution_count": 12,
   "metadata": {},
   "outputs": [],
   "source": [
    "root_dir = os.getenv(\"ROOT_PATH\")\n",
    "test_data = f\"{root_dir}/all_test.csv\" "
   ]
  },
  {
   "cell_type": "code",
   "execution_count": 13,
   "metadata": {},
   "outputs": [],
   "source": [
    "i = -1\n",
    "id_pos = []\n",
    "data = []\n",
    "with open(test_data, 'r', encoding='utf-8') as file:\n",
    "    csv_reader = csv.reader(file)\n",
    "    # Iterate through each row in the CSV file\n",
    "    for row in csv_reader:\n",
    "        data.append(row)\n",
    "        tweet_id = row[0]\n",
    "        i += 1\n",
    "        if tweet_id:\n",
    "            id_pos.append(i)   "
   ]
  },
  {
   "cell_type": "code",
   "execution_count": 24,
   "metadata": {},
   "outputs": [],
   "source": [
    "csv_records = []\n",
    "for i in range(len(id_pos)):\n",
    "    if (i != len(id_pos) - 1):\n",
    "        csv_records.append(data[id_pos[i]:id_pos[i+1]])\n",
    "\n",
    "csv_records = csv_records[1:]"
   ]
  },
  {
   "cell_type": "code",
   "execution_count": 30,
   "metadata": {},
   "outputs": [],
   "source": [
    "for record in csv_records:\n",
    "    header = ['Tweet Text', 'Image', 'Comments']\n",
    "    filepath = f\"{root_dir}/test_csvs/{record[0][0]}.csv\"\n",
    "    csv_writer = csv.writer(file)\n",
    "    no_id_record = [header] \n",
    "    for row in record:\n",
    "        no_id_record.append(row[1:])\n",
    "\n",
    "    with open(filepath, 'w', newline='') as file:\n",
    "        csv_writer = csv.writer(file)\n",
    "        csv_writer.writerows(no_id_record)\n"
   ]
  }
 ],
 "metadata": {
  "kernelspec": {
   "display_name": "venv",
   "language": "python",
   "name": "python3"
  },
  "language_info": {
   "codemirror_mode": {
    "name": "ipython",
    "version": 3
   },
   "file_extension": ".py",
   "mimetype": "text/x-python",
   "name": "python",
   "nbconvert_exporter": "python",
   "pygments_lexer": "ipython3",
   "version": "3.11.0"
  }
 },
 "nbformat": 4,
 "nbformat_minor": 2
}
