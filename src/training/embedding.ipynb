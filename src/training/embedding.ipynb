{
 "cells": [
  {
   "cell_type": "code",
   "execution_count": 1,
   "metadata": {},
   "outputs": [
    {
     "data": {
      "text/plain": [
       "True"
      ]
     },
     "execution_count": 1,
     "metadata": {},
     "output_type": "execute_result"
    }
   ],
   "source": [
    "from dotenv import load_dotenv\n",
    "import os\n",
    "import numpy as np\n",
    "\n",
    "load_dotenv()"
   ]
  },
  {
   "cell_type": "code",
   "execution_count": 12,
   "metadata": {},
   "outputs": [],
   "source": [
    "root_path = os.getenv(\"ROOT_PATH\")\n",
    "embed_dirname = \"train_embeddings\"\n",
    "fullpath = f\"\"\n",
    "\n",
    "hidden_state_dim = 150\n",
    "num_elements = 0\n",
    "with open(fullpath, \"r\", encoding=\"utf-8\") as file:\n",
    "    for i, line in enumerate(file, 0):\n",
    "        num_elements += 1\n",
    "\n",
    "tweets = np.zeros((num_elements, hidden_state_dim), dtype=np.float32)"
   ]
  },
  {
   "cell_type": "code",
   "execution_count": 13,
   "metadata": {},
   "outputs": [],
   "source": [
    "s = []\n",
    "\n",
    "for i,line in enumerate(open(fullpath)):\n",
    "    data = line.split(',')\n",
    "    for c in range(hidden_state_dim): # Read LSTM hidden state\n",
    "        tweets[i,c] = float(data[c+1])\n",
    "\n"
   ]
  }
 ],
 "metadata": {
  "kernelspec": {
   "display_name": "venv",
   "language": "python",
   "name": "python3"
  },
  "language_info": {
   "codemirror_mode": {
    "name": "ipython",
    "version": 3
   },
   "file_extension": ".py",
   "mimetype": "text/x-python",
   "name": "python",
   "nbconvert_exporter": "python",
   "pygments_lexer": "ipython3",
   "version": "3.11.0"
  }
 },
 "nbformat": 4,
 "nbformat_minor": 2
}
