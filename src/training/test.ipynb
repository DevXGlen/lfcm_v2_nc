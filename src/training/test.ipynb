{
 "cells": [
  {
   "cell_type": "code",
   "execution_count": 1,
   "metadata": {},
   "outputs": [
    {
     "name": "stdout",
     "output_type": "stream",
     "text": [
      "Class Weights: [0.74861133 1.5055857 ]\n",
      "Normalized Class Weights: [0.33209667 0.66790333]\n"
     ]
    }
   ],
   "source": [
    "from sklearn.utils.class_weight import compute_class_weight\n",
    "import numpy as np\n",
    "\n",
    "# Assuming `y` is your array of class labels\n",
    "y = ([0] * 6301) + ([1] * 3133)\n",
    "class_labels = np.unique(y)\n",
    "\n",
    "# Calculate class weights\n",
    "class_weights = compute_class_weight('balanced', classes=class_labels, y=y)\n",
    "\n",
    "# Normalize weights to sum to 1\n",
    "class_weights_normalized = class_weights / sum(class_weights)\n",
    "\n",
    "print(\"Class Weights:\", class_weights)\n",
    "print(\"Normalized Class Weights:\", class_weights_normalized)"
   ]
  },
  {
   "cell_type": "code",
   "execution_count": 118,
   "metadata": {},
   "outputs": [
    {
     "name": "stdout",
     "output_type": "stream",
     "text": [
      "[0.5003106 0.4996894]\n"
     ]
    }
   ],
   "source": [
    "import numpy as np\n",
    "\n",
    "def softmax(raw_scores):\n",
    "    exp_scores = np.exp(raw_scores)\n",
    "    probabilities = exp_scores / np.sum(exp_scores)\n",
    "    return probabilities\n",
    "\n",
    "# Example raw scores (logits) for one instance and two classes\n",
    "raw_scores_single_instance = np.array([0.0005093285581097007,-0.000733056862372905])\n",
    "\n",
    "# Apply softmax activation\n",
    "softmax_values_single_instance = softmax(raw_scores_single_instance)\n",
    "\n",
    "print(softmax_values_single_instance)"
   ]
  },
  {
   "cell_type": "code",
   "execution_count": 123,
   "metadata": {},
   "outputs": [],
   "source": [
    "s_i = softmax_values_single_instance\n",
    "x = np.exp(s_i[0]) / (np.exp(s_i[0]) + np.exp(s_i[1]))"
   ]
  },
  {
   "cell_type": "code",
   "execution_count": 120,
   "metadata": {},
   "outputs": [],
   "source": [
    "def sigmoid(raw_scores):\n",
    "    return 1 / (1 + np.exp(-raw_scores))"
   ]
  },
  {
   "cell_type": "code",
   "execution_count": 121,
   "metadata": {},
   "outputs": [],
   "source": [
    "raw_scores_binary = np.array([x])"
   ]
  },
  {
   "cell_type": "code",
   "execution_count": 122,
   "metadata": {},
   "outputs": [
    {
     "data": {
      "text/plain": [
       "array([0.62249583])"
      ]
     },
     "execution_count": 122,
     "metadata": {},
     "output_type": "execute_result"
    }
   ],
   "source": [
    "sigmoid(raw_scores_binary)"
   ]
  },
  {
   "cell_type": "code",
   "execution_count": 24,
   "metadata": {},
   "outputs": [
    {
     "name": "stdout",
     "output_type": "stream",
     "text": [
      "pvalue      0.03952004361672907\n",
      "statistic   4.238372093023256\n",
      "pvalue      0.032762645078859856\n",
      "statistic   4.558139534883721\n",
      "\n",
      "pvalue      0.03920922729377109\n",
      "statistic   72.0\n",
      "\n",
      "0.032762645078859856\n"
     ]
    }
   ],
   "source": [
    "from statsmodels.stats.contingency_tables import mcnemar\n",
    "\n",
    "data = [[366, 72], [100, 253]]\n",
    "print(mcnemar(data, exact=False)) \n",
    "  \n",
    "# McNemar's Test with the continuity correction \n",
    "print(mcnemar(data, exact=False, correction=False)) \n",
    "print()\n",
    "print(mcnemar(data)) \n",
    "print()\n",
    "x = mcnemar(data, exact=False, correction=False)\n",
    "\n",
    "print(x.pvalue)\n",
    "\n"
   ]
  },
  {
   "cell_type": "code",
   "execution_count": 26,
   "metadata": {},
   "outputs": [
    {
     "data": {
      "text/plain": [
       "0"
      ]
     },
     "execution_count": 26,
     "metadata": {},
     "output_type": "execute_result"
    }
   ],
   "source": [
    "contingency_table = {'a': 0, 'b': 0, 'c':0, 'd':0}\n",
    "\n"
   ]
  }
 ],
 "metadata": {
  "kernelspec": {
   "display_name": "venv",
   "language": "python",
   "name": "python3"
  },
  "language_info": {
   "codemirror_mode": {
    "name": "ipython",
    "version": 3
   },
   "file_extension": ".py",
   "mimetype": "text/x-python",
   "name": "python",
   "nbconvert_exporter": "python",
   "pygments_lexer": "ipython3",
   "version": "3.11.0"
  }
 },
 "nbformat": 4,
 "nbformat_minor": 2
}
